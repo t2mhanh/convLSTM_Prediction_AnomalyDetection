{
 "cells": [
  {
   "cell_type": "code",
   "execution_count": 4,
   "metadata": {},
   "outputs": [],
   "source": [
    "import sys\n",
    "sys.path.insert(0,'/home/csunix/schtmt/NewFolder/caffe_Sep_anaconda/python')\n",
    "import numpy as np\n",
    "import matplotlib.pyplot as plt\n",
    "import caffe\n",
    "import h5py\n",
    "import os\n",
    "import time\n",
    "import scipy.io\n",
    "import scipy.misc\n",
    "\n",
    "caffe.set_device(0)\n",
    "caffe.set_mode_gpu()\n",
    "\n",
    "# aug1\n",
    "net = caffe.Net('test2.prototxt',\n",
    "                '../convLSTM_models/avenueRecons_aug1.caffemodel', \n",
    "                caffe.TEST) "
   ]
  },
  {
   "cell_type": "code",
   "execution_count": 5,
   "metadata": {},
   "outputs": [
    {
     "name": "stdout",
     "output_type": "stream",
     "text": [
      "0\n",
      "(1, 1430)\n"
     ]
    },
    {
     "ename": "IndexError",
     "evalue": "index 1430 is out of bounds for axis 1 with size 1430",
     "output_type": "error",
     "traceback": [
      "\u001b[0;31m---------------------------------------------------------------------------\u001b[0m",
      "\u001b[0;31mIndexError\u001b[0m                                Traceback (most recent call last)",
      "\u001b[0;32m<ipython-input-5-4feb0282983e>\u001b[0m in \u001b[0;36m<module>\u001b[0;34m()\u001b[0m\n\u001b[1;32m     49\u001b[0m         \u001b[0merr\u001b[0m \u001b[0;34m=\u001b[0m \u001b[0mnp\u001b[0m\u001b[0;34m.\u001b[0m\u001b[0mreshape\u001b[0m\u001b[0;34m(\u001b[0m\u001b[0merr\u001b[0m\u001b[0;34m,\u001b[0m\u001b[0;34m[\u001b[0m\u001b[0;36m5\u001b[0m\u001b[0;34m,\u001b[0m\u001b[0;36m227\u001b[0m\u001b[0;34m*\u001b[0m\u001b[0;36m227\u001b[0m\u001b[0;34m]\u001b[0m\u001b[0;34m)\u001b[0m\u001b[0;34m\u001b[0m\u001b[0m\n\u001b[1;32m     50\u001b[0m         \u001b[0merr\u001b[0m \u001b[0;34m=\u001b[0m \u001b[0mnp\u001b[0m\u001b[0;34m.\u001b[0m\u001b[0msqrt\u001b[0m\u001b[0;34m(\u001b[0m\u001b[0mnp\u001b[0m\u001b[0;34m.\u001b[0m\u001b[0msum\u001b[0m\u001b[0;34m(\u001b[0m\u001b[0merr\u001b[0m\u001b[0;34m,\u001b[0m\u001b[0;36m1\u001b[0m\u001b[0;34m)\u001b[0m\u001b[0;34m)\u001b[0m\u001b[0;34m\u001b[0m\u001b[0m\n\u001b[0;32m---> 51\u001b[0;31m         \u001b[0mframe_error\u001b[0m\u001b[0;34m[\u001b[0m\u001b[0;34m:\u001b[0m\u001b[0;34m,\u001b[0m\u001b[0mfr\u001b[0m\u001b[0;34m]\u001b[0m \u001b[0;34m=\u001b[0m \u001b[0mnp\u001b[0m\u001b[0;34m.\u001b[0m\u001b[0msum\u001b[0m\u001b[0;34m(\u001b[0m\u001b[0merr\u001b[0m\u001b[0;34m)\u001b[0m\u001b[0;34m\u001b[0m\u001b[0m\n\u001b[0m\u001b[1;32m     52\u001b[0m     \u001b[0mfilename\u001b[0m \u001b[0;34m=\u001b[0m \u001b[0;34m(\u001b[0m\u001b[0;34m\"test_%d_error.h5\"\u001b[0m \u001b[0;34m%\u001b[0m \u001b[0;34m(\u001b[0m\u001b[0mseq\u001b[0m\u001b[0;34m+\u001b[0m\u001b[0;36m1\u001b[0m\u001b[0;34m)\u001b[0m\u001b[0;34m)\u001b[0m\u001b[0;34m\u001b[0m\u001b[0m\n\u001b[1;32m     53\u001b[0m     \u001b[0mh5f\u001b[0m \u001b[0;34m=\u001b[0m \u001b[0mh5py\u001b[0m\u001b[0;34m.\u001b[0m\u001b[0mFile\u001b[0m\u001b[0;34m(\u001b[0m\u001b[0msave_path\u001b[0m \u001b[0;34m+\u001b[0m \u001b[0mfilename\u001b[0m\u001b[0;34m,\u001b[0m \u001b[0;34m'w'\u001b[0m\u001b[0;34m)\u001b[0m\u001b[0;34m\u001b[0m\u001b[0m\n",
      "\u001b[0;31mIndexError\u001b[0m: index 1430 is out of bounds for axis 1 with size 1430"
     ]
    }
   ],
   "source": [
    "import fnmatch\n",
    "import os\n",
    "from PIL import Image\n",
    "frame_path='/usr/not-backed-up/1_DATABASE/Avenue Dataset/testing_vol/'\n",
    "# aug1\n",
    "save_path = '/usr/not-backed-up/1_convlstm/avenue_AE6/'\n",
    "# aug2\n",
    "# save_path = '/usr/not-backed-up/1_convlstm/avenue_AE_aug2/'\n",
    "if not os.path.exists(save_path):\n",
    "    os.mkdir(save_path)\n",
    "\n",
    "for seq in range(21):\n",
    "    print(seq)    \n",
    "    # load images\n",
    "#     mat = scipy.io.loadmat('file.mat')\n",
    "    if seq < 9:                \n",
    "        dirpath = (frame_path + 'vol0%d.mat' % (seq+1))\n",
    "    else:\n",
    "        dirpath = (frame_path + 'vol%d.mat' % (seq+1))\n",
    "    vol = scipy.io.loadmat(dirpath)\n",
    "    vol = np.array(vol['vol'])\n",
    "    nfr = np.shape(vol)[2]\n",
    "    \n",
    "    frame_seq = []\n",
    "    for fr in range(nfr):\n",
    "        im = scipy.misc.imresize(vol[:,:,fr],(227,227),interp='bilinear')              \n",
    "        im = np.reshape(im,[1,227,227])\n",
    "        im = im.astype(float) / 255.        \n",
    "        if fr == 0:\n",
    "            frame_seq = im\n",
    "        else:            \n",
    "            frame_seq = np.append(frame_seq,im,0)\n",
    "    frame_error = np.zeros([1,nfr-4])\n",
    "    print(frame_error.shape)\n",
    "    for fr in range(nfr-4):\n",
    "        err = []\n",
    "        cur_vol = frame_seq[fr:fr+5,:,:]\n",
    "        gt = np.zeros(cur_vol.shape)\n",
    "        for ix in range(5):\n",
    "            gt[ix,:,:] = cur_vol[4-ix,:,:] \n",
    "            \n",
    "        net.blobs['input'].data[...] = cur_vol.reshape([1,5,1,227,227])\n",
    "        out = net.forward()        \n",
    "        recons = net.blobs['deconv3'].data\n",
    "        recons = np.reshape(recons,[5,227,227])\n",
    "        err = np.power((gt - recons),2)\n",
    "               \n",
    "        # error of 5 frames\n",
    "        err = np.reshape(err,[5,227*227])\n",
    "        err = np.sqrt(np.sum(err,1))\n",
    "        frame_error[:,fr] = np.sum(err)   \n",
    "    filename = (\"test_%d_error.h5\" % (seq+1))       \n",
    "    h5f = h5py.File(save_path + filename, 'w')\n",
    "    h5f.create_dataset('frame_error', data=frame_error)                \n",
    "    h5f.close()"
   ]
  },
  {
   "cell_type": "code",
   "execution_count": null,
   "metadata": {
    "collapsed": true
   },
   "outputs": [],
   "source": []
  }
 ],
 "metadata": {
  "kernelspec": {
   "display_name": "Python 2",
   "language": "python",
   "name": "python2"
  },
  "language_info": {
   "codemirror_mode": {
    "name": "ipython",
    "version": 2
   },
   "file_extension": ".py",
   "mimetype": "text/x-python",
   "name": "python",
   "nbconvert_exporter": "python",
   "pygments_lexer": "ipython2",
   "version": "2.7.13"
  }
 },
 "nbformat": 4,
 "nbformat_minor": 2
}
