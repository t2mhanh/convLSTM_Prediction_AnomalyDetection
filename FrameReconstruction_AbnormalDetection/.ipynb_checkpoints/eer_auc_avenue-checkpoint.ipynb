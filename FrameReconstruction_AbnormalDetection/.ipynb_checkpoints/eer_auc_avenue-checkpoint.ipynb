{
 "cells": [
  {
   "cell_type": "code",
   "execution_count": 1,
   "metadata": {},
   "outputs": [
    {
     "name": "stdout",
     "output_type": "stream",
     "text": [
      "0\n",
      "(176,)\n",
      "1\n",
      "(352,)\n",
      "2\n",
      "(498,)\n",
      "3\n",
      "(674,)\n",
      "4\n",
      "(820,)\n",
      "5\n",
      "(996,)\n",
      "6\n",
      "(1172,)\n",
      "7\n",
      "(1348,)\n",
      "8\n",
      "(1464,)\n",
      "9\n",
      "(1610,)\n",
      "10\n",
      "(1786,)\n",
      "11\n",
      "(1962,)\n",
      "(0.17090643274853803, 0.87475633528265118)\n"
     ]
    }
   ],
   "source": [
    "import h5py\n",
    "from sklearn.metrics import roc_auc_score, roc_curve\n",
    "import matplotlib.pyplot as plt\n",
    "import os\n",
    "import numpy as np\n",
    "import glob\n",
    "\n",
    "def compute_eer(far, frr):\n",
    "    cords = zip(far, frr)\n",
    "    min_dist = 999999\n",
    "    for item in cords:\n",
    "        item_far, item_frr = item\n",
    "        dist = abs(item_far-item_frr)\n",
    "        if dist < min_dist:\n",
    "            min_dist = dist\n",
    "            eer = (item_far + item_frr) / 2\n",
    "    return eer\n",
    "\n",
    "# Ped1 ground-truth\n",
    "testSeqPath = '/usr/not-backed-up/1_DATABASE/Avenue Dataset';\n",
    "with h5py.File(os.path.join(testSeqPath,'Avenue_FrameLevel_GT.mat')) as f:\n",
    "    data = [f[element[0]][:] for element in f['gt']]\n",
    "data = np.array(data)\n",
    "for seq in range(21):\n",
    "    gt = data[seq]\n",
    "    gt_ = gt[4:gt.shape[0],0]\n",
    "    if seq == 0:\n",
    "        groundtruth = gt_\n",
    "    else:\n",
    "        groundtruth = np.append(groundtruth,gt_)\n",
    "        \n",
    "# aug1\n",
    "decision_path = '/usr/not-backed-up/1_convlstm/avenue_AE6/'\n",
    "\n",
    "for i in range(21):\n",
    "    print(i)\n",
    "    filename = (\"test_%d_error.h5\" % (i+1))  \n",
    "    h5f = h5py.File(os.path.join(decision_path,filename), 'r')\n",
    "    frame_error = h5f['frame_error'][:]\n",
    "    h5f.close()\n",
    "    frame_error = frame_error - frame_error.min()\n",
    "    frame_error = frame_error / frame_error.max()\n",
    "    frame_error = np.squeeze(frame_error)\n",
    "    if i == 0:\n",
    "        error = frame_error\n",
    "    else:\n",
    "        error = np.append(error,frame_error)\n",
    "  \n",
    "auc = roc_auc_score(groundtruth, error)\n",
    "\n",
    "fpr, tpr, thresholds = roc_curve(groundtruth, error, pos_label=1)\n",
    "frr = 1 - tpr\n",
    "far = fpr\n",
    "eer = compute_eer(far, frr)\n",
    "print(eer, auc)\n",
    "   \n"
   ]
  },
  {
   "cell_type": "code",
   "execution_count": null,
   "metadata": {
    "collapsed": true
   },
   "outputs": [],
   "source": []
  }
 ],
 "metadata": {
  "kernelspec": {
   "display_name": "Python 2",
   "language": "python",
   "name": "python2"
  },
  "language_info": {
   "codemirror_mode": {
    "name": "ipython",
    "version": 2
   },
   "file_extension": ".py",
   "mimetype": "text/x-python",
   "name": "python",
   "nbconvert_exporter": "python",
   "pygments_lexer": "ipython2",
   "version": "2.7.13"
  }
 },
 "nbformat": 4,
 "nbformat_minor": 2
}
