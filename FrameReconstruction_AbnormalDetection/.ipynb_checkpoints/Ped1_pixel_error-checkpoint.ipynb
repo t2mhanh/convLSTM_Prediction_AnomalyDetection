{
 "cells": [
  {
   "cell_type": "code",
   "execution_count": null,
   "metadata": {
    "collapsed": true
   },
   "outputs": [],
   "source": [
    "import sys\n",
    "sys.path.insert(0,'/home/csunix/schtmt/NewFolder/caffe_Sep_anaconda/python')\n",
    "import numpy as np\n",
    "import matplotlib.pyplot as plt\n",
    "import caffe\n",
    "import h5py\n",
    "import cv2\n",
    "import os\n",
    "import time\n",
    "caffe.set_device(0)\n",
    "caffe.set_mode_gpu()\n",
    "# caffe.set_mode_cpu()\n",
    "\n",
    "net = caffe.Net('test2.prototxt',\n",
    "                '/usr/not-backed-up/MODELS_DATA/models/ped1Recons_iter_360000.caffemodel', \n",
    "                caffe.TEST) #570000\n",
    "# print([(k, v.data.shape) for k, v in net.blobs.items()]) # Python data type: list"
   ]
  },
  {
   "cell_type": "code",
   "execution_count": null,
   "metadata": {
    "collapsed": true
   },
   "outputs": [],
   "source": [
    "import fnmatch\n",
    "import os\n",
    "from PIL import Image\n",
    "# Ped2\n",
    "gt_location = '/usr/not-backed-up/1_DATABASE/UCSD_Anomaly_Dataset.tar/UCSD_Anomaly_Dataset.v1p2/VideoSequences/UCSDped1/Test_gt_location'\n",
    "frame_path='/usr/not-backed-up/1_DATABASE/UCSD_Anomaly_Dataset.tar/UCSD_Anomaly_Dataset.v1p2/UCSDped1/Test/'\n",
    "save_path = '/usr/not-backed-up/1_convlstm/Ped1_AE6/pixel_error'\n",
    "if not os.path.exists(save_path):\n",
    "    os.mkdir(save_path)\n",
    "for seq in range(36): \n",
    "    print(seq)    \n",
    "    # load images\n",
    "    if seq < 9:                \n",
    "        dirpath = (frame_path + 'Test00%d' % (seq+1))\n",
    "    else:\n",
    "        dirpath = (frame_path + 'Test0%d' % (seq+1))\n",
    "    nfr = len(fnmatch.filter(os.listdir(dirpath), '*.tif'))\n",
    "#         frame_seq = np.zeros((227,227,nfr),dtype=np.float64)\n",
    "    for fr in range(nfr):            \n",
    "        if fr < 9:\n",
    "            fr_id = '00%d' % (fr+1)                                       \n",
    "        elif fr < 99:\n",
    "            fr_id = '0%d' % (fr+1)                \n",
    "        else:\n",
    "            fr_id = '%d' % (fr+1)                \n",
    "        im1 = Image.open(dirpath + '/' + fr_id + '.tif')\n",
    "        im1 = np.array(im1.resize((227,227),Image.BILINEAR))#size [width,height]            \n",
    "        im1 = np.reshape(im1,[1,227,227])\n",
    "        im1 = im1.astype(float) / 255.\n",
    "        if fr == 0:\n",
    "            frame_seq = im1\n",
    "        else:\n",
    "            frame_seq = np.append(frame_seq,im1,0)        \n",
    "    pixel_error = np.zeros([5,227,227,nfr-4])\n",
    "    for fr in range(nfr-4): # (3,4)\n",
    "        cur_vol = frame_seq[fr:fr+5,:,:]\n",
    "        gt = np.zeros(cur_vol.shape)\n",
    "        for ix in range(5):\n",
    "            gt[ix,:,:] = cur_vol[4-ix,:,:]\n",
    "        cur_vol = cur_vol.reshape([1,5,1,227,227])\n",
    "        \n",
    "        net.blobs['input'].data[...] = cur_vol\n",
    "        out = net.forward()\n",
    "#         cur_er = net.blobs['recons_error'].data\n",
    "#         print(cur_er)        \n",
    "        recons = net.blobs['deconv3'].data\n",
    "        recons = np.reshape(recons,[5,227,227])\n",
    "        err = np.power((gt - recons),2)\n",
    "#         print(err.shape) \n",
    "        pixel_error[:,:,:,fr] = err \n",
    "    filename = (\"test_%d_error.h5\" % (seq+1))        \n",
    "\n",
    "    h5f = h5py.File(os.path.join(save_path,filename), 'w')\n",
    "    h5f.create_dataset('pixel_error', data=pixel_error)                \n",
    "    h5f.close()   \n",
    "# print(total_time/total_frame, \"second\")        \n",
    "# print(\"Processing time:\", total_time/total_frame, \"second\")   "
   ]
  }
 ],
 "metadata": {
  "kernelspec": {
   "display_name": "Python 2",
   "language": "python",
   "name": "python2"
  },
  "language_info": {
   "codemirror_mode": {
    "name": "ipython",
    "version": 2
   },
   "file_extension": ".py",
   "mimetype": "text/x-python",
   "name": "python",
   "nbconvert_exporter": "python",
   "pygments_lexer": "ipython2",
   "version": "2.7.13"
  }
 },
 "nbformat": 4,
 "nbformat_minor": 2
}
