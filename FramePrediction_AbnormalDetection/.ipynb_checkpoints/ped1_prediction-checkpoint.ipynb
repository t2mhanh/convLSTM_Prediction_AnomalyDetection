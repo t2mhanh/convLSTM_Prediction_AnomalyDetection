{
 "cells": [
  {
   "cell_type": "code",
   "execution_count": 1,
   "metadata": {},
   "outputs": [],
   "source": [
    "import sys\n",
    "sys.path.insert(0,'/home/csunix/schtmt/NewFolder/caffe_Sep_anaconda/python')\n",
    "import numpy as np\n",
    "import matplotlib.pyplot as plt\n",
    "import caffe\n",
    "import h5py\n",
    "import cv2\n",
    "import fnmatch\n",
    "import os\n",
    "from PIL import Image\n",
    "\n",
    "\n",
    "caffe.set_device(0)\n",
    "caffe.set_mode_gpu()\n",
    "\n",
    "# aug1\n",
    "net = caffe.Net('test_input5frames.prototxt',\n",
    "                '../convLSTM_models/ped1_aug1_epoch80.caffemodel', \n",
    "                caffe.TEST) "
   ]
  },
  {
   "cell_type": "code",
   "execution_count": 2,
   "metadata": {},
   "outputs": [
    {
     "name": "stdout",
     "output_type": "stream",
     "text": [
      "23\n",
      "(1, 191)\n"
     ]
    }
   ],
   "source": [
    "frame_path='/usr/not-backed-up/1_DATABASE/UCSD_Anomaly_Dataset.tar/UCSD_Anomaly_Dataset.v1p2/UCSDped1/Test/'\n",
    "# for seq in range(22,23): # seq23\n",
    "for seq in range(23,24): # seq24\n",
    "# -----------------------------------------------------------\n",
    "    print(seq)    \n",
    "    # load images\n",
    "    if seq < 9:                \n",
    "        dirpath = (frame_path + 'Test00%d' % (seq+1))\n",
    "    else:\n",
    "        dirpath = (frame_path + 'Test0%d' % (seq+1))\n",
    "    nfr = len(fnmatch.filter(os.listdir(dirpath), '*.tif'))\n",
    "#         frame_seq = np.zeros((227,227,nfr),dtype=np.float64)\n",
    "    for fr in range(nfr):            \n",
    "        if fr < 9:\n",
    "            fr_id = '00%d' % (fr+1)                                       \n",
    "        elif fr < 99:\n",
    "            fr_id = '0%d' % (fr+1)                \n",
    "        else:\n",
    "            fr_id = '%d' % (fr+1)                \n",
    "        im1 = Image.open(dirpath + '/' + fr_id + '.tif')\n",
    "        im1 = np.array(im1.resize((227,227),Image.BILINEAR))#size [width,height]            \n",
    "        im1 = np.reshape(im1,[1,227,227])\n",
    "        im1 = im1.astype(float) / 255.\n",
    "        if fr == 0:\n",
    "            frame_seq = im1\n",
    "        else:\n",
    "            frame_seq = np.append(frame_seq,im1,0)\n",
    "    frame_error = np.zeros([1,nfr-9])\n",
    "    print(frame_error.shape)\n",
    "    #for fr in range(25,26):#(150,151):#\n",
    "#     for fr in range(95,96): # seq23\n",
    "    for fr in range(150,151): # seq24\n",
    "        cur_vol = frame_seq[fr:fr+10,:,:]\n",
    "        net.blobs['input'].data[...] = np.reshape(cur_vol[0:5,:,:],[1,5,1,227,227])\n",
    "        out = net.forward()"
   ]
  },
  {
   "cell_type": "code",
   "execution_count": 3,
   "metadata": {},
   "outputs": [
    {
     "name": "stdout",
     "output_type": "stream",
     "text": [
      "66.2508694542\n"
     ]
    }
   ],
   "source": [
    "# prediction\n",
    "pred = net.blobs['deconv3'].data\n",
    "pred_gt = cur_vol[5:10,:,:]\n",
    "pred = np.reshape(pred,[5,227,227])\n",
    "error = np.power(pred_gt - pred,2)\n",
    "err = np.reshape(error,[5,227*227])\n",
    "err = np.sqrt(np.sum(err,1))\n",
    "print(np.sum(err))"
   ]
  },
  {
   "cell_type": "code",
   "execution_count": 4,
   "metadata": {
    "collapsed": true
   },
   "outputs": [],
   "source": [
    "plt.figure(figsize=(100,100))\n",
    "for i in range(5):\n",
    "#     print(i)\n",
    "    plt.subplot(2,5,i+1)\n",
    "    input_ = np.reshape(pred[i,:,:],[227,227]) \n",
    "    plt.imshow(input_,cmap='gray')\n",
    "    plt.axis('off') \n",
    "for i in range(5):\n",
    "    plt.subplot(2,5,i+6)\n",
    "    input_ = np.reshape(error[i,:,:],[227,227])\n",
    "    imgplot = plt.imshow(input_,clim=(0.0,0.2))\n",
    "    imgplot.set_cmap('jet')\n",
    "    plt.axis('off') \n",
    "plt.subplots_adjust(bottom=0.565,wspace=0.01,hspace=0.00000000001)#for 2 rows\n",
    "# plt.subplots_adjust(bottom=0.405,wspace=0.01,hspace=0.00000000001)#for 3 rows\n",
    "# plt.tight_layout()\n",
    "# plt.subplots_adjust(wspace=0.01,hspace=0.9)\n",
    "# plt.show()\n",
    "\n",
    "# plt.savefig('ped1_wheelchair_prediction6_seq23fr100-104_error30p2.jpg')#seq23\n",
    "plt.savefig('car_prediction6_seq24fr156-160_error66p25.jpg') # seq24"
   ]
  },
  {
   "cell_type": "code",
   "execution_count": null,
   "metadata": {
    "collapsed": true
   },
   "outputs": [],
   "source": [
    "plt.figure(figsize=(100,100))\n",
    "for i in range(5):\n",
    "    plt.subplot(1,5,i+1)    \n",
    "    input_ = np.reshape(pred_gt[i,:,:],[227,227])\n",
    "    plt.imshow(input_,cmap='gray')\n",
    "    plt.axis('off')\n",
    "plt.subplots_adjust(bottom=0.565,wspace=0.01,hspace=0.00000000001)#for 2 rows\n",
    "# plt.show()    \n",
    "plt.savefig('ped1_wheelchair_targetSeq_seq23fr100-104.jpg')"
   ]
  },
  {
   "cell_type": "code",
   "execution_count": null,
   "metadata": {
    "collapsed": true
   },
   "outputs": [],
   "source": []
  }
 ],
 "metadata": {
  "kernelspec": {
   "display_name": "Python 2",
   "language": "python",
   "name": "python2"
  },
  "language_info": {
   "codemirror_mode": {
    "name": "ipython",
    "version": 2
   },
   "file_extension": ".py",
   "mimetype": "text/x-python",
   "name": "python",
   "nbconvert_exporter": "python",
   "pygments_lexer": "ipython2",
   "version": "2.7.13"
  }
 },
 "nbformat": 4,
 "nbformat_minor": 2
}
