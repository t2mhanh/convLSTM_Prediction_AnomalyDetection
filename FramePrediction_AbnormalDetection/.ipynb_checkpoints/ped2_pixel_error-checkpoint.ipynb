{
 "cells": [
  {
   "cell_type": "code",
   "execution_count": 1,
   "metadata": {
    "collapsed": true
   },
   "outputs": [],
   "source": [
    "import sys\n",
    "sys.path.insert(0,'/home/csunix/schtmt/NewFolder/caffe_Sep_anaconda/python')\n",
    "import numpy as np\n",
    "import matplotlib.pyplot as plt\n",
    "import caffe\n",
    "import h5py\n",
    "import cv2\n",
    "import os\n",
    "import time\n",
    "caffe.set_device(0)\n",
    "caffe.set_mode_gpu()\n",
    "# caffe.set_mode_cpu()\n",
    "\n",
    "net = caffe.Net('test2_ped1.prototxt',\n",
    "                '/usr/not-backed-up/MODELS_DATA/models/ped2_iter_140000.caffemodel', \n",
    "                caffe.TEST) #38.4"
   ]
  },
  {
   "cell_type": "code",
   "execution_count": 2,
   "metadata": {},
   "outputs": [
    {
     "name": "stdout",
     "output_type": "stream",
     "text": [
      "0\n"
     ]
    },
    {
     "ename": "ValueError",
     "evalue": "could not broadcast input array from shape (1,5,1,227,227) into shape (1,10,1,227,227)",
     "output_type": "error",
     "traceback": [
      "\u001b[0;31m---------------------------------------------------------------------------\u001b[0m",
      "\u001b[0;31mValueError\u001b[0m                                Traceback (most recent call last)",
      "\u001b[0;32m<ipython-input-2-35dda59e0e27>\u001b[0m in \u001b[0;36m<module>\u001b[0;34m()\u001b[0m\n\u001b[1;32m     52\u001b[0m \u001b[0;31m#         cur_vol = frame_seq[fr:fr+10,:,:]\u001b[0m\u001b[0;34m\u001b[0m\u001b[0;34m\u001b[0m\u001b[0m\n\u001b[1;32m     53\u001b[0m \u001b[0;31m#         cur_vol = cur_vol.reshape([1,10,1,227,227])\u001b[0m\u001b[0;34m\u001b[0m\u001b[0;34m\u001b[0m\u001b[0m\n\u001b[0;32m---> 54\u001b[0;31m         \u001b[0mnet\u001b[0m\u001b[0;34m.\u001b[0m\u001b[0mblobs\u001b[0m\u001b[0;34m[\u001b[0m\u001b[0;34m'input'\u001b[0m\u001b[0;34m]\u001b[0m\u001b[0;34m.\u001b[0m\u001b[0mdata\u001b[0m\u001b[0;34m[\u001b[0m\u001b[0;34m.\u001b[0m\u001b[0;34m.\u001b[0m\u001b[0;34m.\u001b[0m\u001b[0;34m]\u001b[0m \u001b[0;34m=\u001b[0m \u001b[0mnp\u001b[0m\u001b[0;34m.\u001b[0m\u001b[0mreshape\u001b[0m\u001b[0;34m(\u001b[0m\u001b[0mframe_seq\u001b[0m\u001b[0;34m[\u001b[0m\u001b[0;36m0\u001b[0m\u001b[0;34m:\u001b[0m\u001b[0;36m5\u001b[0m\u001b[0;34m,\u001b[0m\u001b[0;34m:\u001b[0m\u001b[0;34m,\u001b[0m\u001b[0;34m:\u001b[0m\u001b[0;34m]\u001b[0m\u001b[0;34m,\u001b[0m\u001b[0;34m[\u001b[0m\u001b[0;36m1\u001b[0m\u001b[0;34m,\u001b[0m\u001b[0;36m5\u001b[0m\u001b[0;34m,\u001b[0m\u001b[0;36m1\u001b[0m\u001b[0;34m,\u001b[0m\u001b[0;36m227\u001b[0m\u001b[0;34m,\u001b[0m\u001b[0;36m227\u001b[0m\u001b[0;34m]\u001b[0m\u001b[0;34m)\u001b[0m\u001b[0;34m\u001b[0m\u001b[0m\n\u001b[0m\u001b[1;32m     55\u001b[0m         \u001b[0mout\u001b[0m \u001b[0;34m=\u001b[0m \u001b[0mnet\u001b[0m\u001b[0;34m.\u001b[0m\u001b[0mforward\u001b[0m\u001b[0;34m(\u001b[0m\u001b[0;34m)\u001b[0m\u001b[0;34m\u001b[0m\u001b[0m\n\u001b[1;32m     56\u001b[0m         \u001b[0mprediction\u001b[0m \u001b[0;34m=\u001b[0m \u001b[0mnet\u001b[0m\u001b[0;34m.\u001b[0m\u001b[0mblobs\u001b[0m\u001b[0;34m[\u001b[0m\u001b[0;34m'deconv3'\u001b[0m\u001b[0;34m]\u001b[0m\u001b[0;34m.\u001b[0m\u001b[0mdata\u001b[0m\u001b[0;34m\u001b[0m\u001b[0m\n",
      "\u001b[0;31mValueError\u001b[0m: could not broadcast input array from shape (1,5,1,227,227) into shape (1,10,1,227,227)"
     ]
    }
   ],
   "source": [
    "import fnmatch\n",
    "import os\n",
    "from PIL import Image\n",
    "frame_path='/usr/not-backed-up/1_DATABASE/UCSD_Anomaly_Dataset.tar/UCSD_Anomaly_Dataset.v1p2/UCSDped2/Test/'\n",
    "save_path = '/usr/not-backed-up/1_convlstm/convLSTM_prediction16_ped2/pixel_error'\n",
    "if not os.path.exists(save_path):\n",
    "    os.mkdir(save_path)\n",
    "total_time = 0\n",
    "total_frame = 0\n",
    "for seq in range(12):#(36)\n",
    "    print(seq)    \n",
    "    # load images\n",
    "    if seq < 9:                \n",
    "        dirpath = (frame_path + 'Test00%d' % (seq+1))\n",
    "    else:\n",
    "        dirpath = (frame_path + 'Test0%d' % (seq+1))\n",
    "    nfr = len(fnmatch.filter(os.listdir(dirpath), '*.tif'))\n",
    "#         frame_seq = np.zeros((227,227,nfr),dtype=np.float64)\n",
    "#     start_time = time.clock()\n",
    "    pixel_error = np.zeros([5,227,227,nfr-9])\n",
    "    for fr in range(nfr-9):     \n",
    "#         print(fr)\n",
    "        if fr == 0:\n",
    "            frame_seq = np.zeros((10,227,227))\n",
    "            for idx in range(10):\n",
    "                if (fr+1+idx) < 10:\n",
    "                    fr_id = '00%d' % (fr+1+idx)                                       \n",
    "                elif (fr+1+idx) < 100:\n",
    "                    fr_id = '0%d' % (fr+1+idx)                \n",
    "                else:\n",
    "                    fr_id = '%d' % (fr+1+idx) \n",
    "                im1 = Image.open(dirpath + '/' + (fr_id) + '.tif')\n",
    "                im1 = np.array(im1.resize((227,227),Image.BILINEAR))#size [width,height]            \n",
    "                im1 = np.reshape(im1,[1,227,227])\n",
    "                im1 = im1.astype(float) / 255.\n",
    "                frame_seq[idx,:,:] = im1        \n",
    "        else:\n",
    "            if (fr+10) < 10:\n",
    "                fr_id = '00%d' % (fr+10)                                       \n",
    "            elif (fr+10) < 100:\n",
    "                fr_id = '0%d' % (fr+10)                \n",
    "            else:\n",
    "                fr_id = '%d' % (fr+10) \n",
    "            im1 = Image.open(dirpath + '/' + (fr_id) + '.tif')\n",
    "            im1 = np.array(im1.resize((227,227),Image.BILINEAR))#size [width,height]            \n",
    "            im1 = np.reshape(im1,[1,227,227])\n",
    "            im1 = im1.astype(float) / 255.\n",
    "            \n",
    "            frame_seq = np.append(frame_seq[1:10,:,:],im1,0)   \n",
    "    \n",
    "\n",
    "#         cur_vol = frame_seq[fr:fr+10,:,:]\n",
    "#         cur_vol = cur_vol.reshape([1,10,1,227,227])\n",
    "        net.blobs['input'].data[...] = np.reshape(frame_seq[0:5,:,:],[1,5,1,227,227])\n",
    "        out = net.forward()        \n",
    "        prediction = net.blobs['deconv3'].data\n",
    "        prediction = np.reshape(prediction,[5,227,227])\n",
    "        err = np.power((frame_seq[5:10,:,:] - prediction),2)\n",
    "#         print(err.shape) \n",
    "        pixel_error[:,:,:,fr] = err \n",
    "    filename = (\"test_%d_error.h5\" % (seq+1))        \n",
    "\n",
    "    h5f = h5py.File(os.path.join(save_path,filename), 'w')\n",
    "    h5f.create_dataset('pixel_error', data=pixel_error)                \n",
    "    h5f.close()   \n",
    "# print(total_time/total_frame, \"second\")        \n",
    "# print(\"Processing time:\", total_time/total_frame, \"second\")        "
   ]
  },
  {
   "cell_type": "code",
   "execution_count": null,
   "metadata": {
    "collapsed": true
   },
   "outputs": [],
   "source": [
    "plt.figure()\n",
    "plt.plot(np.arange(fr+1).reshape(1,fr+1),frame_error,'r*')\n",
    "plt.show()"
   ]
  }
 ],
 "metadata": {
  "kernelspec": {
   "display_name": "Python 2",
   "language": "python",
   "name": "python2"
  },
  "language_info": {
   "codemirror_mode": {
    "name": "ipython",
    "version": 2
   },
   "file_extension": ".py",
   "mimetype": "text/x-python",
   "name": "python",
   "nbconvert_exporter": "python",
   "pygments_lexer": "ipython2",
   "version": "2.7.13"
  }
 },
 "nbformat": 4,
 "nbformat_minor": 2
}
