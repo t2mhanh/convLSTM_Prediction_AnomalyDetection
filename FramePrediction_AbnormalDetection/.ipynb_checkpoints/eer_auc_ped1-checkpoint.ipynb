{
 "cells": [
  {
   "cell_type": "code",
   "execution_count": null,
   "metadata": {
    "collapsed": true
   },
   "outputs": [],
   "source": [
    "import h5py\n",
    "from sklearn.metrics import roc_auc_score, roc_curve\n",
    "import matplotlib.pyplot as plt\n",
    "import os\n",
    "import numpy as np\n",
    "import glob\n",
    "\n",
    "def compute_eer(far, frr):\n",
    "    cords = zip(far, frr)\n",
    "    min_dist = 999999\n",
    "    for item in cords:\n",
    "        item_far, item_frr = item\n",
    "        dist = abs(item_far-item_frr)\n",
    "        if dist < min_dist:\n",
    "            min_dist = dist\n",
    "            eer = (item_far + item_frr) / 2\n",
    "    return eer\n",
    "\n",
    "# Ped1 ground-truth\n",
    "testSeqPath = '/usr/not-backed-up/1_DATABASE/UCSD_Anomaly_Dataset.tar/UCSD_Anomaly_Dataset.v1p2/UCSDped1/Test/';\n",
    "with h5py.File(os.path.join(testSeqPath,'TestFrameGT_original.mat')) as f:\n",
    "    data = [f[element[0]][:] for element in f['FrameGt']]\n",
    "data = np.array(data)\n",
    "for seq in range(36):\n",
    "    gt = data[seq]\n",
    "    gt_ = gt[9:gt.shape[0],0]\n",
    "    if seq == 0:\n",
    "        groundtruth = gt_\n",
    "    else:\n",
    "        groundtruth = np.append(groundtruth,gt_)\n",
    "# print(groundtruth.shape)        \n",
    "# aug1\n",
    "decision_path = '/usr/not-backed-up/1_convlstm/Ped1_prediction6/'\n",
    "\n",
    "# aug2 \n",
    "# decision_path = '/usr/not-backed-up/1_convlstm/Ped1_prediction_aug2/'\n",
    "for i in range(36):\n",
    "    print(i)\n",
    "    filename = (\"test_%d_error.h5\" % (i+1))  \n",
    "    h5f = h5py.File(os.path.join(decision_path,filename), 'r')\n",
    "    frame_error = h5f['frame_error'][:]\n",
    "    h5f.close()\n",
    "    frame_error = frame_error - frame_error.min()\n",
    "    frame_error = frame_error / frame_error.max()\n",
    "    frame_error = np.squeeze(frame_error)\n",
    "    if i == 0:\n",
    "        error = frame_error\n",
    "    else:\n",
    "        error = np.append(error,frame_error)\n",
    "#     print(error.shape)   \n",
    "auc = roc_auc_score(groundtruth, error)\n",
    "\n",
    "fpr, tpr, thresholds = roc_curve(groundtruth, error, pos_label=1)\n",
    "frr = 1 - tpr\n",
    "far = fpr\n",
    "eer = compute_eer(far, frr)\n",
    "print(eer, auc)\n",
    "   \n"
   ]
  },
  {
   "cell_type": "code",
   "execution_count": null,
   "metadata": {
    "collapsed": true
   },
   "outputs": [],
   "source": []
  }
 ],
 "metadata": {
  "anaconda-cloud": {},
  "kernelspec": {
   "display_name": "Python 2",
   "language": "python",
   "name": "python2"
  },
  "language_info": {
   "codemirror_mode": {
    "name": "ipython",
    "version": 2
   },
   "file_extension": ".py",
   "mimetype": "text/x-python",
   "name": "python",
   "nbconvert_exporter": "python",
   "pygments_lexer": "ipython2",
   "version": "2.7.13"
  }
 },
 "nbformat": 4,
 "nbformat_minor": 1
}
