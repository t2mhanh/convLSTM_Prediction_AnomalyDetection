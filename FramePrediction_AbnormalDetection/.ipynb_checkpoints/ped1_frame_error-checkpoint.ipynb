{
 "cells": [
  {
   "cell_type": "code",
   "execution_count": 1,
   "metadata": {},
   "outputs": [],
   "source": [
    "import sys\n",
    "sys.path.insert(0,'/home/csunix/schtmt/NewFolder/caffe_Sep_anaconda/python')\n",
    "import numpy as np\n",
    "import matplotlib.pyplot as plt\n",
    "import caffe\n",
    "import h5py\n",
    "import cv2\n",
    "import os\n",
    "import time\n",
    "import itertools as it\n",
    "\n",
    "caffe.set_device(0)\n",
    "caffe.set_mode_gpu()\n",
    "# caffe.set_mode_cpu()\n",
    "\n",
    "# aug1\n",
    "# net = caffe.Net('test_input5frames.prototxt',\n",
    "#                 '/usr/not-backed-up/MODELS_DATA/models/ped1_iter_360000.caffemodel', \n",
    "#                 caffe.TEST) \n",
    "\n",
    "# aug2\n",
    "net = caffe.Net('test_input5frames.prototxt',\n",
    "                '../convLSTM_models/ped1_aug2.caffemodel', \n",
    "                caffe.TEST) "
   ]
  },
  {
   "cell_type": "code",
   "execution_count": 2,
   "metadata": {},
   "outputs": [
    {
     "name": "stdout",
     "output_type": "stream",
     "text": [
      "0\n",
      "1\n",
      "2\n",
      "3\n",
      "4\n",
      "5\n",
      "6\n",
      "7\n",
      "8\n",
      "9\n",
      "10\n",
      "11\n",
      "12\n",
      "13\n",
      "14\n",
      "15\n",
      "16\n",
      "17\n",
      "18\n",
      "19\n",
      "20\n",
      "21\n",
      "22\n",
      "23\n",
      "24\n",
      "25\n",
      "26\n",
      "27\n",
      "28\n",
      "29\n",
      "30\n",
      "31\n",
      "32\n",
      "33\n",
      "34\n",
      "35\n"
     ]
    },
    {
     "ename": "NameError",
     "evalue": "name 'total_time' is not defined",
     "output_type": "error",
     "traceback": [
      "\u001b[0;31m---------------------------------------------------------------------------\u001b[0m",
      "\u001b[0;31mNameError\u001b[0m                                 Traceback (most recent call last)",
      "\u001b[0;32m<ipython-input-2-ab143cdac037>\u001b[0m in \u001b[0;36m<module>\u001b[0;34m()\u001b[0m\n\u001b[1;32m     73\u001b[0m     \u001b[0mh5f\u001b[0m\u001b[0;34m.\u001b[0m\u001b[0mclose\u001b[0m\u001b[0;34m(\u001b[0m\u001b[0;34m)\u001b[0m\u001b[0;34m\u001b[0m\u001b[0m\n\u001b[1;32m     74\u001b[0m \u001b[0;34m\u001b[0m\u001b[0m\n\u001b[0;32m---> 75\u001b[0;31m \u001b[0;32mprint\u001b[0m\u001b[0;34m(\u001b[0m\u001b[0;34m\"Total times: \"\u001b[0m\u001b[0;34m,\u001b[0m \u001b[0mtotal_time\u001b[0m\u001b[0;34m,\u001b[0m \u001b[0;34m\"second\"\u001b[0m\u001b[0;34m)\u001b[0m\u001b[0;34m\u001b[0m\u001b[0m\n\u001b[0m\u001b[1;32m     76\u001b[0m \u001b[0;32mprint\u001b[0m\u001b[0;34m(\u001b[0m\u001b[0;34m\"Total frames:\"\u001b[0m\u001b[0;34m,\u001b[0m \u001b[0mtotal_frame\u001b[0m\u001b[0;34m)\u001b[0m\u001b[0;34m\u001b[0m\u001b[0m\n\u001b[1;32m     77\u001b[0m \u001b[0;32mprint\u001b[0m\u001b[0;34m(\u001b[0m\u001b[0;34m\"Processing time:\"\u001b[0m\u001b[0;34m,\u001b[0m \u001b[0mprocessing_time\u001b[0m\u001b[0;34m/\u001b[0m\u001b[0mtotal_frame\u001b[0m\u001b[0;34m,\u001b[0m \u001b[0;34m\"second\"\u001b[0m\u001b[0;34m)\u001b[0m\u001b[0;34m\u001b[0m\u001b[0m\n",
      "\u001b[0;31mNameError\u001b[0m: name 'total_time' is not defined"
     ]
    }
   ],
   "source": [
    "import fnmatch\n",
    "import os\n",
    "from PIL import Image\n",
    "frame_path='/usr/not-backed-up/1_DATABASE/UCSD_Anomaly_Dataset.tar/UCSD_Anomaly_Dataset.v1p2/UCSDped1/Test/'\n",
    "# save_path = '/usr/not-backed-up/1_convlstm/Ped1_prediction6/' # aug1\n",
    "save_path = '/usr/not-backed-up/1_convlstm/Ped1_prediction_aug2/' # aug2\n",
    "if not os.path.exists(save_path):\n",
    "    os.mkdir(save_path)\n",
    "pred_time = 0\n",
    "processing_time = 0\n",
    "total_frame = 0\n",
    "for seq in range(36):\n",
    "    print(seq)    \n",
    "    # load images\n",
    "    if seq < 9:                \n",
    "        dirpath = (frame_path + 'Test00%d' % (seq+1))\n",
    "    else:\n",
    "        dirpath = (frame_path + 'Test0%d' % (seq+1))\n",
    "    nfr = len(fnmatch.filter(os.listdir(dirpath), '*.tif'))\n",
    "   \n",
    "    \n",
    "    frame_error = np.zeros([1,nfr-9])                    \n",
    "    for fr in range(nfr-9):   \n",
    "        start_time = time.clock()\n",
    "        if fr == 0:\n",
    "            frame_seq = np.zeros((10,227,227))\n",
    "            for idx in range(10):\n",
    "                if (fr+1+idx) < 10:\n",
    "                    fr_id = '00%d' % (fr+1+idx)                                       \n",
    "                elif (fr+1+idx) < 100:\n",
    "                    fr_id = '0%d' % (fr+1+idx)                \n",
    "                else:\n",
    "                    fr_id = '%d' % (fr+1+idx) \n",
    "                im1 = Image.open(dirpath + '/' + (fr_id) + '.tif')\n",
    "                im1 = np.array(im1.resize((227,227),Image.BILINEAR))#size [width,height]            \n",
    "                im1 = np.reshape(im1,[1,227,227])\n",
    "                im1 = im1.astype(float) / 255.\n",
    "                frame_seq[idx,:,:] = im1        \n",
    "        else:\n",
    "            if (fr+10) < 10:\n",
    "                fr_id = '00%d' % (fr+10)                                       \n",
    "            elif (fr+10) < 100:\n",
    "                fr_id = '0%d' % (fr+10)                \n",
    "            else:\n",
    "                fr_id = '%d' % (fr+10) \n",
    "            im1 = Image.open(dirpath + '/' + (fr_id) + '.tif')\n",
    "            im1 = np.array(im1.resize((227,227),Image.BILINEAR))#size [width,height]            \n",
    "            im1 = np.reshape(im1,[1,227,227])\n",
    "            im1 = im1.astype(float) / 255.\n",
    "            \n",
    "            frame_seq = np.append(frame_seq[1:10,:,:],im1,0)   \n",
    "        processing_time = processing_time + time.clock() - start_time\n",
    "        \n",
    "        start_time_pred = time.clock()\n",
    "        net.blobs['input'].data[...] = np.reshape(frame_seq[0:5,:,:],[1,5,1,227,227])\n",
    "        out = net.forward()        \n",
    "        prediction = net.blobs['deconv3'].data\n",
    "        prediction = np.reshape(prediction,[5,227,227])\n",
    "        err = np.power((frame_seq[5:10,:,:] - prediction),2)                \n",
    "        # error of 5 frames\n",
    "        err = np.reshape(err,[5,227*227])\n",
    "        err = np.sqrt(np.sum(err,1))\n",
    "        frame_error[:,fr] = np.sum(err)\n",
    "        pred_time = pred_time + time.clock() - start_time_pred\n",
    "#         print(exec_time)\n",
    "#         total_time = total_time + exec_time\n",
    "#     total_time = total_time + time.clock() - start_time\n",
    "    total_frame = total_frame + nfr\n",
    "    filename = (\"test_%d_error.h5\" % (seq+1))        \n",
    "\n",
    "    h5f = h5py.File(os.path.join(save_path,filename), 'w')\n",
    "    h5f.create_dataset('frame_error', data=frame_error)                \n",
    "    h5f.close()   \n",
    "      \n",
    "print(\"Total frames:\", total_frame)\n",
    "print(\"Processing time:\", processing_time/total_frame, \"second\")        \n",
    "print(\"Processing time:\", pred_time/total_frame, \"second\")        "
   ]
  },
  {
   "cell_type": "code",
   "execution_count": 3,
   "metadata": {},
   "outputs": [
    {
     "name": "stdout",
     "output_type": "stream",
     "text": [
      "('Total frames:', 7200)\n",
      "('Processing time:', 0.002315277777777618, 'second')\n",
      "('Processing time:', 0.013430555555556105, 'second')\n"
     ]
    }
   ],
   "source": [
    "print(\"Total frames:\", total_frame)\n",
    "print(\"Processing time:\", processing_time/total_frame, \"second\")        \n",
    "print(\"Prediction time:\", pred_time/total_frame, \"second\") "
   ]
  },
  {
   "cell_type": "code",
   "execution_count": null,
   "metadata": {},
   "outputs": [],
   "source": [
    "plt.figure()\n",
    "plt.plot(np.arange(fr+1).reshape(1,fr+1),frame_error,'r*')\n",
    "plt.show()"
   ]
  }
 ],
 "metadata": {
  "kernelspec": {
   "display_name": "Python 2",
   "language": "python",
   "name": "python2"
  },
  "language_info": {
   "codemirror_mode": {
    "name": "ipython",
    "version": 2
   },
   "file_extension": ".py",
   "mimetype": "text/x-python",
   "name": "python",
   "nbconvert_exporter": "python",
   "pygments_lexer": "ipython2",
   "version": "2.7.13"
  }
 },
 "nbformat": 4,
 "nbformat_minor": 2
}
