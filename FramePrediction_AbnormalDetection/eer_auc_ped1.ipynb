{
 "cells": [
  {
   "cell_type": "code",
   "execution_count": 1,
   "metadata": {},
   "outputs": [
    {
     "name": "stdout",
     "output_type": "stream",
     "text": [
      "0\n",
      "1\n",
      "2\n",
      "3\n",
      "4\n",
      "5\n",
      "6\n",
      "7\n",
      "8\n",
      "9\n",
      "10\n",
      "11\n",
      "12\n",
      "13\n",
      "14\n",
      "15\n",
      "16\n",
      "17\n",
      "18\n",
      "19\n",
      "20\n",
      "21\n",
      "22\n",
      "23\n",
      "24\n",
      "25\n",
      "26\n",
      "27\n",
      "28\n",
      "29\n",
      "30\n",
      "31\n",
      "32\n",
      "33\n",
      "34\n",
      "35\n",
      "(0.25157996749455547, 0.80807443012948221)\n"
     ]
    }
   ],
   "source": [
    "import h5py\n",
    "from sklearn.metrics import roc_auc_score, roc_curve\n",
    "import matplotlib.pyplot as plt\n",
    "import os\n",
    "import numpy as np\n",
    "import glob\n",
    "\n",
    "def compute_eer(far, frr):\n",
    "    cords = zip(far, frr)\n",
    "    min_dist = 999999\n",
    "    for item in cords:\n",
    "        item_far, item_frr = item\n",
    "        dist = abs(item_far-item_frr)\n",
    "        if dist < min_dist:\n",
    "            min_dist = dist\n",
    "            eer = (item_far + item_frr) / 2\n",
    "    return eer\n",
    "\n",
    "# Ped1 ground-truth\n",
    "testSeqPath = '/usr/not-backed-up/1_DATABASE/UCSD_Anomaly_Dataset.tar/UCSD_Anomaly_Dataset.v1p2/UCSDped1/Test/';\n",
    "with h5py.File(os.path.join(testSeqPath,'TestFrameGT_original.mat')) as f:\n",
    "    data = [f[element[0]][:] for element in f['FrameGt']]\n",
    "data = np.array(data)\n",
    "for seq in range(36):\n",
    "    gt = data[seq]\n",
    "    gt_ = gt[9:gt.shape[0],0]\n",
    "    if seq == 0:\n",
    "        groundtruth = gt_\n",
    "    else:\n",
    "        groundtruth = np.append(groundtruth,gt_)\n",
    "# print(groundtruth.shape)        \n",
    "# aug1\n",
    "decision_path = '/usr/not-backed-up/1_convlstm/Ped1_prediction6/'\n",
    "\n",
    "# aug2 \n",
    "# decision_path = '/usr/not-backed-up/1_convlstm/Ped1_prediction_aug2/'\n",
    "for i in range(36):\n",
    "    print(i)\n",
    "    filename = (\"test_%d_error.h5\" % (i+1))  \n",
    "    h5f = h5py.File(os.path.join(decision_path,filename), 'r')\n",
    "    frame_error = h5f['frame_error'][:]\n",
    "    h5f.close()\n",
    "    frame_error = frame_error - frame_error.min()\n",
    "    frame_error = frame_error / frame_error.max()\n",
    "    frame_error = np.squeeze(frame_error)\n",
    "    if i == 0:\n",
    "        error = frame_error\n",
    "    else:\n",
    "        error = np.append(error,frame_error)\n",
    "#     print(error.shape)   \n",
    "auc = roc_auc_score(groundtruth, error)\n",
    "\n",
    "fpr, tpr, thresholds = roc_curve(groundtruth, error, pos_label=1)\n",
    "frr = 1 - tpr\n",
    "far = fpr\n",
    "eer = compute_eer(far, frr)\n",
    "print(eer, auc)\n",
    "   \n"
   ]
  },
  {
   "cell_type": "code",
   "execution_count": 2,
   "metadata": {},
   "outputs": [
    {
     "name": "stdout",
     "output_type": "stream",
     "text": [
      "(array([ 0.        ,  0.00237208,  0.00237208, ...,  0.99051169,\n",
      "        0.99051169,  1.        ]), array([ 0.        ,  0.00738854,  0.00764331, ...,  0.99770701,\n",
      "        0.99796178,  1.        ]), array([  2.00000000e+00,   1.00000000e+00,   9.99132593e-01, ...,\n",
      "         3.12129081e-04,   2.70812444e-04,   0.00000000e+00]))\n"
     ]
    }
   ],
   "source": [
    "print(fpr, tpr, thresholds)"
   ]
  },
  {
   "cell_type": "code",
   "execution_count": 4,
   "metadata": {},
   "outputs": [
    {
     "name": "stdout",
     "output_type": "stream",
     "text": [
      "2355\n"
     ]
    }
   ],
   "source": [
    "print(len(thresholds))"
   ]
  },
  {
   "cell_type": "code",
   "execution_count": null,
   "metadata": {
    "collapsed": true
   },
   "outputs": [],
   "source": []
  }
 ],
 "metadata": {
  "anaconda-cloud": {},
  "kernelspec": {
   "display_name": "Python 2",
   "language": "python",
   "name": "python2"
  },
  "language_info": {
   "codemirror_mode": {
    "name": "ipython",
    "version": 2
   },
   "file_extension": ".py",
   "mimetype": "text/x-python",
   "name": "python",
   "nbconvert_exporter": "python",
   "pygments_lexer": "ipython2",
   "version": "2.7.13"
  }
 },
 "nbformat": 4,
 "nbformat_minor": 1
}
