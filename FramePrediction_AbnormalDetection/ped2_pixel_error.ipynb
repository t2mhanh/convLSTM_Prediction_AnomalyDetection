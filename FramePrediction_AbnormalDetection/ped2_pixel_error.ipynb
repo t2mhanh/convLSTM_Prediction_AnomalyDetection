{
 "cells": [
  {
   "cell_type": "code",
   "execution_count": 3,
   "metadata": {
    "collapsed": true
   },
   "outputs": [],
   "source": [
    "import sys\n",
    "sys.path.insert(0,'/home/csunix/schtmt/NewFolder/caffe_Sep_anaconda/python')\n",
    "import numpy as np\n",
    "import matplotlib.pyplot as plt\n",
    "import caffe\n",
    "import h5py\n",
    "import cv2\n",
    "import os\n",
    "import time\n",
    "caffe.set_device(0)\n",
    "caffe.set_mode_gpu()\n",
    "# caffe.set_mode_cpu()\n",
    "\n",
    "net = caffe.Net('test2_ped1.prototxt',\n",
    "                '/usr/not-backed-up/MODELS_DATA/models/ped2_iter_140000.caffemodel', \n",
    "                caffe.TEST) #38.4"
   ]
  },
  {
   "cell_type": "code",
   "execution_count": 4,
   "metadata": {},
   "outputs": [
    {
     "name": "stdout",
     "output_type": "stream",
     "text": [
      "0\n",
      "1\n",
      "2\n",
      "3\n",
      "4\n",
      "5\n",
      "6\n"
     ]
    },
    {
     "ename": "IOError",
     "evalue": "Can't prepare for writing data (File write failed: time = mon apr 23 18:48:19 2018\n, filename = '/usr/not-backed-up/1_convlstm/convlstm_prediction16_ped2/pixel_error/test_7_error.h5', file descriptor = 137, errno = 28, error message = 'no space left on device', buf = 0x7f5271ffe7b0, total write size = 83750616, bytes this sub-write = 83750616, bytes actually written = 18446744073709551615, offset = 268709888)",
     "output_type": "error",
     "traceback": [
      "\u001b[0;31m---------------------------------------------------------------------------\u001b[0m",
      "\u001b[0;31mIOError\u001b[0m                                   Traceback (most recent call last)",
      "\u001b[0;32m<ipython-input-4-35dda59e0e27>\u001b[0m in \u001b[0;36m<module>\u001b[0;34m()\u001b[0m\n\u001b[1;32m     62\u001b[0m \u001b[0;34m\u001b[0m\u001b[0m\n\u001b[1;32m     63\u001b[0m     \u001b[0mh5f\u001b[0m \u001b[0;34m=\u001b[0m \u001b[0mh5py\u001b[0m\u001b[0;34m.\u001b[0m\u001b[0mFile\u001b[0m\u001b[0;34m(\u001b[0m\u001b[0mos\u001b[0m\u001b[0;34m.\u001b[0m\u001b[0mpath\u001b[0m\u001b[0;34m.\u001b[0m\u001b[0mjoin\u001b[0m\u001b[0;34m(\u001b[0m\u001b[0msave_path\u001b[0m\u001b[0;34m,\u001b[0m\u001b[0mfilename\u001b[0m\u001b[0;34m)\u001b[0m\u001b[0;34m,\u001b[0m \u001b[0;34m'w'\u001b[0m\u001b[0;34m)\u001b[0m\u001b[0;34m\u001b[0m\u001b[0m\n\u001b[0;32m---> 64\u001b[0;31m     \u001b[0mh5f\u001b[0m\u001b[0;34m.\u001b[0m\u001b[0mcreate_dataset\u001b[0m\u001b[0;34m(\u001b[0m\u001b[0;34m'pixel_error'\u001b[0m\u001b[0;34m,\u001b[0m \u001b[0mdata\u001b[0m\u001b[0;34m=\u001b[0m\u001b[0mpixel_error\u001b[0m\u001b[0;34m)\u001b[0m\u001b[0;34m\u001b[0m\u001b[0m\n\u001b[0m\u001b[1;32m     65\u001b[0m     \u001b[0mh5f\u001b[0m\u001b[0;34m.\u001b[0m\u001b[0mclose\u001b[0m\u001b[0;34m(\u001b[0m\u001b[0;34m)\u001b[0m\u001b[0;34m\u001b[0m\u001b[0m\n\u001b[1;32m     66\u001b[0m \u001b[0;31m# print(total_time/total_frame, \"second\")\u001b[0m\u001b[0;34m\u001b[0m\u001b[0;34m\u001b[0m\u001b[0m\n",
      "\u001b[0;32m/home/csunix/linux/apps/install/anaconda/4.4.0/lib/python2.7/site-packages/h5py/_hl/group.pyc\u001b[0m in \u001b[0;36mcreate_dataset\u001b[0;34m(self, name, shape, dtype, data, **kwds)\u001b[0m\n\u001b[1;32m    106\u001b[0m         \"\"\"\n\u001b[1;32m    107\u001b[0m         \u001b[0;32mwith\u001b[0m \u001b[0mphil\u001b[0m\u001b[0;34m:\u001b[0m\u001b[0;34m\u001b[0m\u001b[0m\n\u001b[0;32m--> 108\u001b[0;31m             \u001b[0mdsid\u001b[0m \u001b[0;34m=\u001b[0m \u001b[0mdataset\u001b[0m\u001b[0;34m.\u001b[0m\u001b[0mmake_new_dset\u001b[0m\u001b[0;34m(\u001b[0m\u001b[0mself\u001b[0m\u001b[0;34m,\u001b[0m \u001b[0mshape\u001b[0m\u001b[0;34m,\u001b[0m \u001b[0mdtype\u001b[0m\u001b[0;34m,\u001b[0m \u001b[0mdata\u001b[0m\u001b[0;34m,\u001b[0m \u001b[0;34m**\u001b[0m\u001b[0mkwds\u001b[0m\u001b[0;34m)\u001b[0m\u001b[0;34m\u001b[0m\u001b[0m\n\u001b[0m\u001b[1;32m    109\u001b[0m             \u001b[0mdset\u001b[0m \u001b[0;34m=\u001b[0m \u001b[0mdataset\u001b[0m\u001b[0;34m.\u001b[0m\u001b[0mDataset\u001b[0m\u001b[0;34m(\u001b[0m\u001b[0mdsid\u001b[0m\u001b[0;34m)\u001b[0m\u001b[0;34m\u001b[0m\u001b[0m\n\u001b[1;32m    110\u001b[0m             \u001b[0;32mif\u001b[0m \u001b[0mname\u001b[0m \u001b[0;32mis\u001b[0m \u001b[0;32mnot\u001b[0m \u001b[0mNone\u001b[0m\u001b[0;34m:\u001b[0m\u001b[0;34m\u001b[0m\u001b[0m\n",
      "\u001b[0;32m/home/csunix/linux/apps/install/anaconda/4.4.0/lib/python2.7/site-packages/h5py/_hl/dataset.pyc\u001b[0m in \u001b[0;36mmake_new_dset\u001b[0;34m(parent, shape, dtype, data, chunks, compression, shuffle, fletcher32, maxshape, compression_opts, fillvalue, scaleoffset, track_times)\u001b[0m\n\u001b[1;32m    138\u001b[0m \u001b[0;34m\u001b[0m\u001b[0m\n\u001b[1;32m    139\u001b[0m     \u001b[0;32mif\u001b[0m \u001b[0;34m(\u001b[0m\u001b[0mdata\u001b[0m \u001b[0;32mis\u001b[0m \u001b[0;32mnot\u001b[0m \u001b[0mNone\u001b[0m\u001b[0;34m)\u001b[0m \u001b[0;32mand\u001b[0m \u001b[0;34m(\u001b[0m\u001b[0;32mnot\u001b[0m \u001b[0misinstance\u001b[0m\u001b[0;34m(\u001b[0m\u001b[0mdata\u001b[0m\u001b[0;34m,\u001b[0m \u001b[0mEmpty\u001b[0m\u001b[0;34m)\u001b[0m\u001b[0;34m)\u001b[0m\u001b[0;34m:\u001b[0m\u001b[0;34m\u001b[0m\u001b[0m\n\u001b[0;32m--> 140\u001b[0;31m         \u001b[0mdset_id\u001b[0m\u001b[0;34m.\u001b[0m\u001b[0mwrite\u001b[0m\u001b[0;34m(\u001b[0m\u001b[0mh5s\u001b[0m\u001b[0;34m.\u001b[0m\u001b[0mALL\u001b[0m\u001b[0;34m,\u001b[0m \u001b[0mh5s\u001b[0m\u001b[0;34m.\u001b[0m\u001b[0mALL\u001b[0m\u001b[0;34m,\u001b[0m \u001b[0mdata\u001b[0m\u001b[0;34m)\u001b[0m\u001b[0;34m\u001b[0m\u001b[0m\n\u001b[0m\u001b[1;32m    141\u001b[0m \u001b[0;34m\u001b[0m\u001b[0m\n\u001b[1;32m    142\u001b[0m     \u001b[0;32mreturn\u001b[0m \u001b[0mdset_id\u001b[0m\u001b[0;34m\u001b[0m\u001b[0m\n",
      "\u001b[0;32mh5py/_objects.pyx\u001b[0m in \u001b[0;36mh5py._objects.with_phil.wrapper (/home/ilan/minonda/conda-bld/h5py_1490028130695/work/h5py/_objects.c:2846)\u001b[0;34m()\u001b[0m\n",
      "\u001b[0;32mh5py/_objects.pyx\u001b[0m in \u001b[0;36mh5py._objects.with_phil.wrapper (/home/ilan/minonda/conda-bld/h5py_1490028130695/work/h5py/_objects.c:2804)\u001b[0;34m()\u001b[0m\n",
      "\u001b[0;32mh5py/h5d.pyx\u001b[0m in \u001b[0;36mh5py.h5d.DatasetID.write (/home/ilan/minonda/conda-bld/h5py_1490028130695/work/h5py/h5d.c:3700)\u001b[0;34m()\u001b[0m\n",
      "\u001b[0;32mh5py/_proxy.pyx\u001b[0m in \u001b[0;36mh5py._proxy.dset_rw (/home/ilan/minonda/conda-bld/h5py_1490028130695/work/h5py/_proxy.c:2028)\u001b[0;34m()\u001b[0m\n",
      "\u001b[0;32mh5py/_proxy.pyx\u001b[0m in \u001b[0;36mh5py._proxy.H5PY_H5Dwrite (/home/ilan/minonda/conda-bld/h5py_1490028130695/work/h5py/_proxy.c:1738)\u001b[0;34m()\u001b[0m\n",
      "\u001b[0;31mIOError\u001b[0m: Can't prepare for writing data (File write failed: time = mon apr 23 18:48:19 2018\n, filename = '/usr/not-backed-up/1_convlstm/convlstm_prediction16_ped2/pixel_error/test_7_error.h5', file descriptor = 137, errno = 28, error message = 'no space left on device', buf = 0x7f5271ffe7b0, total write size = 83750616, bytes this sub-write = 83750616, bytes actually written = 18446744073709551615, offset = 268709888)"
     ]
    }
   ],
   "source": [
    "import fnmatch\n",
    "import os\n",
    "from PIL import Image\n",
    "frame_path='/usr/not-backed-up/1_DATABASE/UCSD_Anomaly_Dataset.tar/UCSD_Anomaly_Dataset.v1p2/UCSDped2/Test/'\n",
    "save_path = '/usr/not-backed-up/1_convlstm/convLSTM_prediction16_ped2/pixel_error'\n",
    "if not os.path.exists(save_path):\n",
    "    os.mkdir(save_path)\n",
    "total_time = 0\n",
    "total_frame = 0\n",
    "for seq in range(12):#(36)\n",
    "    print(seq)    \n",
    "    # load images\n",
    "    if seq < 9:                \n",
    "        dirpath = (frame_path + 'Test00%d' % (seq+1))\n",
    "    else:\n",
    "        dirpath = (frame_path + 'Test0%d' % (seq+1))\n",
    "    nfr = len(fnmatch.filter(os.listdir(dirpath), '*.tif'))\n",
    "#         frame_seq = np.zeros((227,227,nfr),dtype=np.float64)\n",
    "#     start_time = time.clock()\n",
    "    pixel_error = np.zeros([5,227,227,nfr-9])\n",
    "    for fr in range(nfr-9):     \n",
    "#         print(fr)\n",
    "        if fr == 0:\n",
    "            frame_seq = np.zeros((10,227,227))\n",
    "            for idx in range(10):\n",
    "                if (fr+1+idx) < 10:\n",
    "                    fr_id = '00%d' % (fr+1+idx)                                       \n",
    "                elif (fr+1+idx) < 100:\n",
    "                    fr_id = '0%d' % (fr+1+idx)                \n",
    "                else:\n",
    "                    fr_id = '%d' % (fr+1+idx) \n",
    "                im1 = Image.open(dirpath + '/' + (fr_id) + '.tif')\n",
    "                im1 = np.array(im1.resize((227,227),Image.BILINEAR))#size [width,height]            \n",
    "                im1 = np.reshape(im1,[1,227,227])\n",
    "                im1 = im1.astype(float) / 255.\n",
    "                frame_seq[idx,:,:] = im1        \n",
    "        else:\n",
    "            if (fr+10) < 10:\n",
    "                fr_id = '00%d' % (fr+10)                                       \n",
    "            elif (fr+10) < 100:\n",
    "                fr_id = '0%d' % (fr+10)                \n",
    "            else:\n",
    "                fr_id = '%d' % (fr+10) \n",
    "            im1 = Image.open(dirpath + '/' + (fr_id) + '.tif')\n",
    "            im1 = np.array(im1.resize((227,227),Image.BILINEAR))#size [width,height]            \n",
    "            im1 = np.reshape(im1,[1,227,227])\n",
    "            im1 = im1.astype(float) / 255.\n",
    "            \n",
    "            frame_seq = np.append(frame_seq[1:10,:,:],im1,0)   \n",
    "    \n",
    "\n",
    "#         cur_vol = frame_seq[fr:fr+10,:,:]\n",
    "#         cur_vol = cur_vol.reshape([1,10,1,227,227])\n",
    "        net.blobs['input'].data[...] = np.reshape(frame_seq[0:5,:,:],[1,5,1,227,227])\n",
    "        out = net.forward()        \n",
    "        prediction = net.blobs['deconv3'].data\n",
    "        prediction = np.reshape(prediction,[5,227,227])\n",
    "        err = np.power((frame_seq[5:10,:,:] - prediction),2)\n",
    "#         print(err.shape) \n",
    "        pixel_error[:,:,:,fr] = err \n",
    "    filename = (\"test_%d_error.h5\" % (seq+1))        \n",
    "\n",
    "    h5f = h5py.File(os.path.join(save_path,filename), 'w')\n",
    "    h5f.create_dataset('pixel_error', data=pixel_error)                \n",
    "    h5f.close()   \n",
    "# print(total_time/total_frame, \"second\")        \n",
    "# print(\"Processing time:\", total_time/total_frame, \"second\")        "
   ]
  },
  {
   "cell_type": "code",
   "execution_count": null,
   "metadata": {
    "collapsed": true
   },
   "outputs": [],
   "source": [
    "plt.figure()\n",
    "plt.plot(np.arange(fr+1).reshape(1,fr+1),frame_error,'r*')\n",
    "plt.show()"
   ]
  }
 ],
 "metadata": {
  "kernelspec": {
   "display_name": "Python 2",
   "language": "python",
   "name": "python2"
  },
  "language_info": {
   "codemirror_mode": {
    "name": "ipython",
    "version": 2
   },
   "file_extension": ".py",
   "mimetype": "text/x-python",
   "name": "python",
   "nbconvert_exporter": "python",
   "pygments_lexer": "ipython2",
   "version": "2.7.13"
  }
 },
 "nbformat": 4,
 "nbformat_minor": 2
}
